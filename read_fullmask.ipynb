{
 "cells": [
  {
   "cell_type": "code",
   "execution_count": null,
   "metadata": {},
   "outputs": [],
   "source": [
    "import numpy as np\n",
    "import h5py\n",
    "\n",
    "def fy4disk(rawfile, dim):\n",
    "    \"\"\"\n",
    "    FY-4A数据行列号和经纬度查找表2km、4km，读取raw文件，存成hdf.\n",
    "    :param rawfile: raw文件全路径\n",
    "    :param dim: 行列数（2km:5496,4km:2748)\n",
    "    :return:\n",
    "    \"\"\"\n",
    "    sz = np.fromfile(rawfile, dtype=float, count=dim*dim*2)\n",
    "    latlon = np.reshape(sz, (dim, dim, 2))\n",
    "\n",
    "    lat = latlon[:, :, 0]\n",
    "    lon = latlon[:, :, 1]\n",
    "\n",
    "    lat[lat > 100] = -9999.\n",
    "    lon[lon < 0] = lon[lon < 0] + 360.\n",
    "    lon[lon > 361] = -9999.\n",
    "\n",
    "    return lon, lat\n",
    "\n",
    "\n",
    "if __name__ == '__main__':\n",
    "\n",
    "    rawfile = r'D:\\work\\fire_point\\FullMask_Grid_2000\\FullMask_Grid_2000.raw'\n",
    "\n",
    "    dim = 5496  # 2km\n",
    "    # dim = 2748 # 4km\n",
    "\n",
    "    # Two ways of reading an binary file\n",
    "    # lon, lat = fy4raw(rawfile,dim)\n",
    "    lon, lat = fy4disk(rawfile, dim)\n",
    "    with h5py.File(r\"D:\\work\\fire_point\\FullMask_Grid_2000\\FullMask_Grid_2000.hdf5\", 'w') as f:\n",
    "        f[\"Lon\"] = lon\n",
    "        f[\"Lat\"] = lat\n"
   ]
  }
 ],
 "metadata": {
  "language_info": {
   "name": "python"
  }
 },
 "nbformat": 4,
 "nbformat_minor": 2
}
